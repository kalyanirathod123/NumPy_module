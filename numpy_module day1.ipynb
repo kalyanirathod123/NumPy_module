{
 "cells": [
  {
   "cell_type": "code",
   "execution_count": 1,
   "id": "173052b7",
   "metadata": {},
   "outputs": [],
   "source": [
    "#Numpy\n",
    "#mathematical computations\n",
    "#generate random variables\n",
    "#vector,matrix,tensors-----array"
   ]
  },
  {
   "cell_type": "code",
   "execution_count": 2,
   "id": "a4142035",
   "metadata": {},
   "outputs": [],
   "source": [
    "#scalar= a data which has one row one column\n",
    "#vector= a data which has one row multiple col or multiple rows and one col\n",
    "#metrix= a data which has multiple rows with multiple column\n",
    "#tensor= a data which has more than a row and a column"
   ]
  },
  {
   "cell_type": "code",
   "execution_count": 3,
   "id": "6fe320a9",
   "metadata": {},
   "outputs": [],
   "source": [
    "import numpy"
   ]
  },
  {
   "cell_type": "code",
   "execution_count": 4,
   "id": "a533cfee",
   "metadata": {},
   "outputs": [],
   "source": [
    "import numpy as np #renaming numpy as np (not mandatory)"
   ]
  },
  {
   "cell_type": "code",
   "execution_count": 5,
   "id": "477fc4ce",
   "metadata": {},
   "outputs": [
    {
     "name": "stdout",
     "output_type": "stream",
     "text": [
      "-1.0\n"
     ]
    }
   ],
   "source": [
    "print(np.cos(np.pi))"
   ]
  },
  {
   "cell_type": "code",
   "execution_count": 6,
   "id": "8032acf9",
   "metadata": {},
   "outputs": [
    {
     "name": "stdout",
     "output_type": "stream",
     "text": [
      "11.0\n"
     ]
    }
   ],
   "source": [
    "print(np.sqrt(121))"
   ]
  },
  {
   "cell_type": "code",
   "execution_count": 7,
   "id": "6423f92e",
   "metadata": {},
   "outputs": [],
   "source": [
    "#create numpy arrays\n",
    "#from List\n",
    "#creating vector from List\n",
    "vec=np.array([1,2,3,4])"
   ]
  },
  {
   "cell_type": "code",
   "execution_count": 8,
   "id": "90b6b326",
   "metadata": {},
   "outputs": [
    {
     "data": {
      "text/plain": [
       "numpy.ndarray"
      ]
     },
     "execution_count": 8,
     "metadata": {},
     "output_type": "execute_result"
    }
   ],
   "source": [
    "type(vec)"
   ]
  },
  {
   "cell_type": "code",
   "execution_count": 9,
   "id": "009cdd62",
   "metadata": {},
   "outputs": [
    {
     "name": "stdout",
     "output_type": "stream",
     "text": [
      "[1 2 3 4]\n"
     ]
    }
   ],
   "source": [
    "print(vec)"
   ]
  },
  {
   "cell_type": "code",
   "execution_count": 10,
   "id": "051c5b36",
   "metadata": {},
   "outputs": [],
   "source": [
    "#create a metrix from List\n",
    "mat=np.array([[1,2,3],[11,23,4],[1,2,4]])"
   ]
  },
  {
   "cell_type": "code",
   "execution_count": 11,
   "id": "740c7cb6",
   "metadata": {},
   "outputs": [
    {
     "data": {
      "text/plain": [
       "numpy.ndarray"
      ]
     },
     "execution_count": 11,
     "metadata": {},
     "output_type": "execute_result"
    }
   ],
   "source": [
    "type(mat)"
   ]
  },
  {
   "cell_type": "code",
   "execution_count": 12,
   "id": "174749ce",
   "metadata": {},
   "outputs": [
    {
     "name": "stdout",
     "output_type": "stream",
     "text": [
      "[[ 1  2  3]\n",
      " [11 23  4]\n",
      " [ 1  2  4]]\n"
     ]
    }
   ],
   "source": [
    "print(mat)"
   ]
  },
  {
   "cell_type": "code",
   "execution_count": 13,
   "id": "9f3edf2a",
   "metadata": {},
   "outputs": [
    {
     "name": "stdout",
     "output_type": "stream",
     "text": [
      "[[ 1 11  1]\n",
      " [ 2 23  2]\n",
      " [ 3  4  4]]\n"
     ]
    }
   ],
   "source": [
    "#Transpose of matrix:\n",
    "#interchanging the rows and columns\n",
    "print(mat.T)"
   ]
  },
  {
   "cell_type": "code",
   "execution_count": 14,
   "id": "b532e23a",
   "metadata": {},
   "outputs": [
    {
     "data": {
      "text/plain": [
       "numpy.ndarray"
      ]
     },
     "execution_count": 14,
     "metadata": {},
     "output_type": "execute_result"
    }
   ],
   "source": [
    "#Creating array using arange\n",
    "vec2=np.arange(0,15)\n",
    "type(vec2)"
   ]
  },
  {
   "cell_type": "code",
   "execution_count": 15,
   "id": "e7d9a903",
   "metadata": {},
   "outputs": [
    {
     "name": "stdout",
     "output_type": "stream",
     "text": [
      "[ 0  1  2  3  4  5  6  7  8  9 10 11 12 13 14]\n"
     ]
    }
   ],
   "source": [
    "print(vec2)"
   ]
  },
  {
   "cell_type": "code",
   "execution_count": 16,
   "id": "12f18f6e",
   "metadata": {},
   "outputs": [
    {
     "name": "stdout",
     "output_type": "stream",
     "text": [
      "[ 3  9 15]\n"
     ]
    }
   ],
   "source": [
    "vec3=np.arange(3,21,6) #[3 3+6 9+6]\n",
    "print(vec3)"
   ]
  },
  {
   "cell_type": "code",
   "execution_count": 17,
   "id": "8cf426a2",
   "metadata": {},
   "outputs": [
    {
     "name": "stdout",
     "output_type": "stream",
     "text": [
      "[0.         0.55555556 1.11111111 1.66666667 2.22222222 2.77777778\n",
      " 3.33333333 3.88888889 4.44444444 5.        ]\n"
     ]
    }
   ],
   "source": [
    "#creating array using linspace----Linearly spaced vector\n",
    "vec4=np.linspace(0,5,10) #creates equal spaced 10 elements btwn 0 to 5\n",
    "print(vec4)"
   ]
  },
  {
   "cell_type": "code",
   "execution_count": 18,
   "id": "49ad2ba0",
   "metadata": {},
   "outputs": [
    {
     "name": "stdout",
     "output_type": "stream",
     "text": [
      "[[0.         0.55555556]\n",
      " [1.11111111 1.66666667]\n",
      " [2.22222222 2.77777778]\n",
      " [3.33333333 3.88888889]\n",
      " [4.44444444 5.        ]]\n"
     ]
    }
   ],
   "source": [
    "#Reshaping techniques\n",
    "#number of elements should be same\n",
    "print(vec4.reshape(5,2))"
   ]
  },
  {
   "cell_type": "code",
   "execution_count": 19,
   "id": "3efb3205",
   "metadata": {},
   "outputs": [
    {
     "name": "stdout",
     "output_type": "stream",
     "text": [
      "[0.         0.55555556 1.11111111 1.66666667 2.22222222 2.77777778\n",
      " 3.33333333 3.88888889 4.44444444 5.        ]\n"
     ]
    }
   ],
   "source": [
    "print(vec4) #no change to original data"
   ]
  },
  {
   "cell_type": "code",
   "execution_count": 20,
   "id": "81c5230f",
   "metadata": {},
   "outputs": [
    {
     "name": "stdout",
     "output_type": "stream",
     "text": [
      "[[0.        ]\n",
      " [0.55555556]\n",
      " [1.11111111]\n",
      " [1.66666667]\n",
      " [2.22222222]\n",
      " [2.77777778]\n",
      " [3.33333333]\n",
      " [3.88888889]\n",
      " [4.44444444]\n",
      " [5.        ]]\n"
     ]
    }
   ],
   "source": [
    "print(vec4.reshape(10,1))"
   ]
  },
  {
   "cell_type": "code",
   "execution_count": 21,
   "id": "62c540cb",
   "metadata": {},
   "outputs": [],
   "source": [
    "mat2=np.zeros([3,5])"
   ]
  },
  {
   "cell_type": "code",
   "execution_count": 22,
   "id": "0a325314",
   "metadata": {},
   "outputs": [
    {
     "name": "stdout",
     "output_type": "stream",
     "text": [
      "[[0. 0. 0. 0. 0.]\n",
      " [0. 0. 0. 0. 0.]\n",
      " [0. 0. 0. 0. 0.]]\n"
     ]
    }
   ],
   "source": [
    "print(mat2)"
   ]
  },
  {
   "cell_type": "code",
   "execution_count": 23,
   "id": "8be50d87",
   "metadata": {},
   "outputs": [],
   "source": [
    "mat3=np.ones([3,5])"
   ]
  },
  {
   "cell_type": "code",
   "execution_count": 24,
   "id": "3716a126",
   "metadata": {},
   "outputs": [
    {
     "name": "stdout",
     "output_type": "stream",
     "text": [
      "[[1. 1. 1. 1. 1.]\n",
      " [1. 1. 1. 1. 1.]\n",
      " [1. 1. 1. 1. 1.]]\n"
     ]
    }
   ],
   "source": [
    "print(mat3)"
   ]
  },
  {
   "cell_type": "code",
   "execution_count": 25,
   "id": "9ac805bc",
   "metadata": {},
   "outputs": [
    {
     "name": "stdout",
     "output_type": "stream",
     "text": [
      "[[1. 0. 0.]\n",
      " [0. 1. 0.]\n",
      " [0. 0. 1.]]\n"
     ]
    }
   ],
   "source": [
    "mat4=np.eye(3)\n",
    "print(mat4)"
   ]
  },
  {
   "cell_type": "code",
   "execution_count": 26,
   "id": "a69a5024",
   "metadata": {},
   "outputs": [],
   "source": [
    "#Linear algebra\n",
    "vec5=np.arange(1,6)\n",
    "vec6=np.arange(3,8)"
   ]
  },
  {
   "cell_type": "code",
   "execution_count": 27,
   "id": "99098a8f",
   "metadata": {},
   "outputs": [
    {
     "name": "stdout",
     "output_type": "stream",
     "text": [
      "[1 2 3 4 5]\n",
      "[3 4 5 6 7]\n"
     ]
    }
   ],
   "source": [
    "print(vec5)\n",
    "print(vec6)"
   ]
  },
  {
   "cell_type": "code",
   "execution_count": 28,
   "id": "8bcf6820",
   "metadata": {},
   "outputs": [
    {
     "name": "stdout",
     "output_type": "stream",
     "text": [
      "[ 4  6  8 10 12]\n"
     ]
    }
   ],
   "source": [
    "print(vec5+vec6)"
   ]
  },
  {
   "cell_type": "code",
   "execution_count": 29,
   "id": "766c2d63",
   "metadata": {},
   "outputs": [
    {
     "name": "stdout",
     "output_type": "stream",
     "text": [
      "[-2 -2 -2 -2 -2]\n"
     ]
    }
   ],
   "source": [
    "print(vec5-vec6)"
   ]
  },
  {
   "cell_type": "code",
   "execution_count": 30,
   "id": "e3825c47",
   "metadata": {},
   "outputs": [
    {
     "name": "stdout",
     "output_type": "stream",
     "text": [
      "[ 3  8 15 24 35]\n"
     ]
    }
   ],
   "source": [
    "print(vec5*vec6)"
   ]
  },
  {
   "cell_type": "code",
   "execution_count": 31,
   "id": "ca2338bc",
   "metadata": {},
   "outputs": [
    {
     "name": "stdout",
     "output_type": "stream",
     "text": [
      "[1.         0.5        0.33333333 0.25       0.2       ]\n"
     ]
    }
   ],
   "source": [
    "print(1/vec5)"
   ]
  },
  {
   "cell_type": "code",
   "execution_count": 32,
   "id": "36b66c9b",
   "metadata": {},
   "outputs": [
    {
     "name": "stdout",
     "output_type": "stream",
     "text": [
      "[1.         1.41421356 1.73205081 2.         2.23606798]\n"
     ]
    }
   ],
   "source": [
    "print(np.sqrt(vec5))"
   ]
  },
  {
   "cell_type": "code",
   "execution_count": 33,
   "id": "a5543bd4",
   "metadata": {},
   "outputs": [],
   "source": [
    "A=np.array([[1,2],[3,4]]) #new question\n",
    "B=np.array([[5,1],[2,4]])"
   ]
  },
  {
   "cell_type": "code",
   "execution_count": 34,
   "id": "72e18a1c",
   "metadata": {},
   "outputs": [
    {
     "name": "stdout",
     "output_type": "stream",
     "text": [
      "[[1 2]\n",
      " [3 4]]\n"
     ]
    }
   ],
   "source": [
    "print(A)"
   ]
  },
  {
   "cell_type": "code",
   "execution_count": 35,
   "id": "67cc6cd0",
   "metadata": {},
   "outputs": [
    {
     "name": "stdout",
     "output_type": "stream",
     "text": [
      "[[5 1]\n",
      " [2 4]]\n"
     ]
    }
   ],
   "source": [
    "print(B)"
   ]
  },
  {
   "cell_type": "code",
   "execution_count": 36,
   "id": "3093e352",
   "metadata": {},
   "outputs": [
    {
     "name": "stdout",
     "output_type": "stream",
     "text": [
      "[[6 3]\n",
      " [5 8]]\n"
     ]
    }
   ],
   "source": [
    "print(A+B)"
   ]
  },
  {
   "cell_type": "code",
   "execution_count": 37,
   "id": "b5af72a9",
   "metadata": {},
   "outputs": [
    {
     "name": "stdout",
     "output_type": "stream",
     "text": [
      "[[-4  1]\n",
      " [ 1  0]]\n"
     ]
    }
   ],
   "source": [
    "print(A-B)"
   ]
  },
  {
   "cell_type": "code",
   "execution_count": 38,
   "id": "f7899b01",
   "metadata": {},
   "outputs": [
    {
     "name": "stdout",
     "output_type": "stream",
     "text": [
      "[[ 5  2]\n",
      " [ 6 16]]\n"
     ]
    }
   ],
   "source": [
    "print(A*B)"
   ]
  },
  {
   "cell_type": "code",
   "execution_count": 39,
   "id": "0cc26205",
   "metadata": {},
   "outputs": [
    {
     "name": "stdout",
     "output_type": "stream",
     "text": [
      "[[ 9  9]\n",
      " [23 19]]\n"
     ]
    }
   ],
   "source": [
    "print(np.matmul(A,B)) #MATRIX MULTIPLICATION (np.matmul)"
   ]
  },
  {
   "cell_type": "code",
   "execution_count": 40,
   "id": "f26bf407",
   "metadata": {},
   "outputs": [],
   "source": [
    "vec7=np.array(['blue','red','blue','red','yellow','brown'])"
   ]
  },
  {
   "cell_type": "code",
   "execution_count": 41,
   "id": "34385d90",
   "metadata": {},
   "outputs": [
    {
     "name": "stdout",
     "output_type": "stream",
     "text": [
      "['blue' 'brown' 'red' 'yellow']\n"
     ]
    }
   ],
   "source": [
    "print(np.unique(vec7))"
   ]
  },
  {
   "cell_type": "code",
   "execution_count": 42,
   "id": "eb00bf33",
   "metadata": {},
   "outputs": [],
   "source": [
    "#generate random samples\n",
    "rand_mat=np.random.rand(5,5)"
   ]
  },
  {
   "cell_type": "code",
   "execution_count": 43,
   "id": "000eaf69",
   "metadata": {},
   "outputs": [
    {
     "name": "stdout",
     "output_type": "stream",
     "text": [
      "[[0.85203149 0.9404264  0.70866073 0.90661701 0.66838271]\n",
      " [0.11007815 0.11945082 0.97724016 0.89843611 0.53220481]\n",
      " [0.06199885 0.06159279 0.53667769 0.62400271 0.19629243]\n",
      " [0.36201251 0.53510313 0.99652258 0.28919919 0.43016034]\n",
      " [0.20951686 0.06213652 0.00651283 0.28260045 0.81466779]]\n"
     ]
    }
   ],
   "source": [
    "print(rand_mat)"
   ]
  },
  {
   "cell_type": "code",
   "execution_count": 44,
   "id": "5e856954",
   "metadata": {},
   "outputs": [],
   "source": [
    "rand_mat2=np.random.randn(2,3) #values follow normal distribution"
   ]
  },
  {
   "cell_type": "code",
   "execution_count": 45,
   "id": "71945e00",
   "metadata": {},
   "outputs": [
    {
     "name": "stdout",
     "output_type": "stream",
     "text": [
      "[[ 0.05601833  0.51360496  0.55817412]\n",
      " [-0.55196964  0.08667594 -0.09123988]]\n"
     ]
    }
   ],
   "source": [
    "print(rand_mat2)"
   ]
  },
  {
   "cell_type": "code",
   "execution_count": 46,
   "id": "1ef7ea5d",
   "metadata": {},
   "outputs": [
    {
     "name": "stdout",
     "output_type": "stream",
     "text": [
      "0.48730100237943136\n"
     ]
    }
   ],
   "source": [
    "#mean of ele\n",
    "print(np.mean(rand_mat))"
   ]
  },
  {
   "cell_type": "code",
   "execution_count": 47,
   "id": "82a1fbb1",
   "metadata": {},
   "outputs": [
    {
     "name": "stdout",
     "output_type": "stream",
     "text": [
      "0.32927458144806765\n"
     ]
    }
   ],
   "source": [
    "#standared deviation\n",
    "print(np.std(rand_mat))"
   ]
  },
  {
   "cell_type": "code",
   "execution_count": 48,
   "id": "677ad7bf",
   "metadata": {},
   "outputs": [
    {
     "name": "stdout",
     "output_type": "stream",
     "text": [
      "0.0065128273103489676\n"
     ]
    }
   ],
   "source": [
    "#min element (smallest element)\n",
    "print(np.min(rand_mat))"
   ]
  },
  {
   "cell_type": "code",
   "execution_count": 49,
   "id": "75d31542",
   "metadata": {},
   "outputs": [
    {
     "name": "stdout",
     "output_type": "stream",
     "text": [
      "0.9965225839770315\n"
     ]
    }
   ],
   "source": [
    "#max element \n",
    "print(np.max(rand_mat))"
   ]
  },
  {
   "cell_type": "code",
   "execution_count": 50,
   "id": "2ad395ad",
   "metadata": {},
   "outputs": [
    {
     "name": "stdout",
     "output_type": "stream",
     "text": [
      "[ 0.24767605 -1.06717527  0.11201716 -0.31821117 -0.22811226  0.09273749\n",
      " -0.95480279 -0.87887632  0.15314413  0.62553853 -0.46369252  2.14927256\n",
      "  0.97279669  0.4789785   0.01788179  1.00620476 -2.21421509 -0.21437482\n",
      " -0.3311392 ]\n"
     ]
    }
   ],
   "source": [
    "#Access elements from array\n",
    "rand_vec=np.random.randn(19)\n",
    "print(rand_vec)"
   ]
  },
  {
   "cell_type": "code",
   "execution_count": 51,
   "id": "dc2bcfc2",
   "metadata": {},
   "outputs": [
    {
     "name": "stdout",
     "output_type": "stream",
     "text": [
      "0.2476760460420379\n"
     ]
    }
   ],
   "source": [
    "print(rand_vec[0])"
   ]
  },
  {
   "cell_type": "code",
   "execution_count": 52,
   "id": "8fe546ae",
   "metadata": {},
   "outputs": [
    {
     "name": "stdout",
     "output_type": "stream",
     "text": [
      "-0.3311392041966827\n"
     ]
    }
   ],
   "source": [
    "print(rand_vec[18])"
   ]
  },
  {
   "cell_type": "code",
   "execution_count": 53,
   "id": "23ea2aa8",
   "metadata": {},
   "outputs": [
    {
     "name": "stdout",
     "output_type": "stream",
     "text": [
      "-0.3311392041966827\n"
     ]
    }
   ],
   "source": [
    "print(rand_vec[-1])"
   ]
  },
  {
   "cell_type": "code",
   "execution_count": 54,
   "id": "3980eaf9",
   "metadata": {},
   "outputs": [
    {
     "name": "stdout",
     "output_type": "stream",
     "text": [
      "-0.2143748158360052\n"
     ]
    }
   ],
   "source": [
    "print(rand_vec[-2])"
   ]
  },
  {
   "cell_type": "code",
   "execution_count": 55,
   "id": "2f610447",
   "metadata": {},
   "outputs": [
    {
     "name": "stdout",
     "output_type": "stream",
     "text": [
      "[ 1.00000000e+02 -1.06717527e+00  1.12017162e-01 -3.18211172e-01\n",
      " -2.28112258e-01  9.27374882e-02 -9.54802787e-01 -8.78876322e-01\n",
      "  1.53144134e-01  6.25538531e-01 -4.63692523e-01  2.14927256e+00\n",
      "  9.72796686e-01  4.78978496e-01  1.78817917e-02  1.00620476e+00\n",
      " -2.21421509e+00 -2.14374816e-01 -3.31139204e-01]\n"
     ]
    }
   ],
   "source": [
    "rand_vec[0]=100\n",
    "print(rand_vec)"
   ]
  },
  {
   "cell_type": "code",
   "execution_count": 56,
   "id": "1dce7ce8",
   "metadata": {},
   "outputs": [
    {
     "name": "stdout",
     "output_type": "stream",
     "text": [
      "[100.          -1.06717527   0.11201716  -0.31821117  -0.22811226]\n"
     ]
    }
   ],
   "source": [
    "print(rand_vec[0:5])"
   ]
  },
  {
   "cell_type": "code",
   "execution_count": 57,
   "id": "af10ff03",
   "metadata": {},
   "outputs": [
    {
     "name": "stdout",
     "output_type": "stream",
     "text": [
      "[100.           0.11201716  -0.22811226]\n"
     ]
    }
   ],
   "source": [
    "print(rand_vec[0:5:2])"
   ]
  },
  {
   "cell_type": "code",
   "execution_count": 58,
   "id": "ce7405fa",
   "metadata": {},
   "outputs": [
    {
     "name": "stdout",
     "output_type": "stream",
     "text": [
      "[100.           0.11201716  -0.22811226]\n"
     ]
    }
   ],
   "source": [
    "print(rand_vec[np.arange(0,6,2)])"
   ]
  },
  {
   "cell_type": "code",
   "execution_count": 59,
   "id": "94cdee52",
   "metadata": {},
   "outputs": [
    {
     "name": "stdout",
     "output_type": "stream",
     "text": [
      "[0 2 4]\n"
     ]
    }
   ],
   "source": [
    "s=np.arange(0,6,2)\n",
    "print(s)"
   ]
  },
  {
   "cell_type": "code",
   "execution_count": 60,
   "id": "477de5d9",
   "metadata": {},
   "outputs": [
    {
     "name": "stdout",
     "output_type": "stream",
     "text": [
      "[100.           0.11201716  -0.22811226]\n"
     ]
    }
   ],
   "source": [
    "print(rand_vec[s])"
   ]
  },
  {
   "cell_type": "code",
   "execution_count": null,
   "id": "91e9deb2",
   "metadata": {},
   "outputs": [],
   "source": []
  }
 ],
 "metadata": {
  "kernelspec": {
   "display_name": "Python 3 (ipykernel)",
   "language": "python",
   "name": "python3"
  },
  "language_info": {
   "codemirror_mode": {
    "name": "ipython",
    "version": 3
   },
   "file_extension": ".py",
   "mimetype": "text/x-python",
   "name": "python",
   "nbconvert_exporter": "python",
   "pygments_lexer": "ipython3",
   "version": "3.9.12"
  }
 },
 "nbformat": 4,
 "nbformat_minor": 5
}
