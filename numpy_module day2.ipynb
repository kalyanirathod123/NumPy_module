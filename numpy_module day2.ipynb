{
 "cells": [
  {
   "cell_type": "code",
   "execution_count": 1,
   "id": "616bc01e",
   "metadata": {},
   "outputs": [],
   "source": [
    "import numpy as np"
   ]
  },
  {
   "cell_type": "code",
   "execution_count": 2,
   "id": "3830680f",
   "metadata": {},
   "outputs": [
    {
     "name": "stdout",
     "output_type": "stream",
     "text": [
      "[0.         0.55555556 1.11111111 1.66666667 2.22222222 2.77777778\n",
      " 3.33333333 3.88888889 4.44444444 5.        ]\n"
     ]
    }
   ],
   "source": [
    "#linspace\n",
    "vec4=np.linspace(0,5,10)\n",
    "print(vec4)"
   ]
  },
  {
   "cell_type": "code",
   "execution_count": 3,
   "id": "e22c999e",
   "metadata": {},
   "outputs": [
    {
     "name": "stdout",
     "output_type": "stream",
     "text": [
      "[[0.         0.55555556]\n",
      " [1.11111111 1.66666667]\n",
      " [2.22222222 2.77777778]\n",
      " [3.33333333 3.88888889]\n",
      " [4.44444444 5.        ]]\n"
     ]
    }
   ],
   "source": [
    "#reshape\n",
    "print(vec4.reshape(5,2))"
   ]
  },
  {
   "cell_type": "code",
   "execution_count": 4,
   "id": "45cc143e",
   "metadata": {},
   "outputs": [
    {
     "name": "stdout",
     "output_type": "stream",
     "text": [
      "[[0.         0.55555556 1.11111111 1.66666667 2.22222222]\n",
      " [2.77777778 3.33333333 3.88888889 4.44444444 5.        ]]\n"
     ]
    }
   ],
   "source": [
    "print(vec4.reshape(2,5))"
   ]
  },
  {
   "cell_type": "code",
   "execution_count": 5,
   "id": "9b4bf8c2",
   "metadata": {},
   "outputs": [
    {
     "name": "stdout",
     "output_type": "stream",
     "text": [
      "[[0.        ]\n",
      " [0.55555556]\n",
      " [1.11111111]\n",
      " [1.66666667]\n",
      " [2.22222222]\n",
      " [2.77777778]\n",
      " [3.33333333]\n",
      " [3.88888889]\n",
      " [4.44444444]\n",
      " [5.        ]]\n"
     ]
    }
   ],
   "source": [
    "print(vec4.reshape(10,1))"
   ]
  },
  {
   "cell_type": "code",
   "execution_count": 6,
   "id": "1c840bd7",
   "metadata": {},
   "outputs": [
    {
     "name": "stdout",
     "output_type": "stream",
     "text": [
      "[[0. 0. 0.]\n",
      " [0. 0. 0.]\n",
      " [0. 0. 0.]\n",
      " [0. 0. 0.]\n",
      " [0. 0. 0.]]\n"
     ]
    }
   ],
   "source": [
    "mat=np.zeros([5,3])\n",
    "print(mat)"
   ]
  },
  {
   "cell_type": "code",
   "execution_count": 7,
   "id": "92b8b6ae",
   "metadata": {},
   "outputs": [
    {
     "name": "stdout",
     "output_type": "stream",
     "text": [
      "[[1. 1. 1. 1. 1.]\n",
      " [1. 1. 1. 1. 1.]\n",
      " [1. 1. 1. 1. 1.]]\n"
     ]
    }
   ],
   "source": [
    "mat3=np.ones([3,5])\n",
    "print(mat3)"
   ]
  },
  {
   "cell_type": "code",
   "execution_count": 9,
   "id": "c12e3ce8",
   "metadata": {},
   "outputs": [
    {
     "name": "stdout",
     "output_type": "stream",
     "text": [
      "[[1. 0. 0. 0.]\n",
      " [0. 1. 0. 0.]\n",
      " [0. 0. 1. 0.]\n",
      " [0. 0. 0. 1.]]\n"
     ]
    }
   ],
   "source": [
    "mat4=np.eye(4)\n",
    "print(mat4)"
   ]
  },
  {
   "cell_type": "code",
   "execution_count": 10,
   "id": "9f0c4944",
   "metadata": {},
   "outputs": [
    {
     "name": "stdout",
     "output_type": "stream",
     "text": [
      "[ 4  6  8 10 12]\n"
     ]
    }
   ],
   "source": [
    "vec5=np.arange(1,6)\n",
    "vec6=np.arange(3,8)\n",
    "print(vec5+vec6)"
   ]
  },
  {
   "cell_type": "code",
   "execution_count": 11,
   "id": "f16ed5e9",
   "metadata": {},
   "outputs": [
    {
     "name": "stdout",
     "output_type": "stream",
     "text": [
      "[-2 -2 -2 -2 -2]\n"
     ]
    }
   ],
   "source": [
    "print(vec5-vec6)"
   ]
  },
  {
   "cell_type": "code",
   "execution_count": 12,
   "id": "d33330b3",
   "metadata": {},
   "outputs": [
    {
     "name": "stdout",
     "output_type": "stream",
     "text": [
      "[[1 2]\n",
      " [3 4]]\n"
     ]
    }
   ],
   "source": [
    "m1=np.array([[1,2],[3,4]])\n",
    "print(m1)"
   ]
  },
  {
   "cell_type": "code",
   "execution_count": 13,
   "id": "8653eb36",
   "metadata": {},
   "outputs": [
    {
     "name": "stdout",
     "output_type": "stream",
     "text": [
      "[[1 1]\n",
      " [4 5]]\n"
     ]
    }
   ],
   "source": [
    "m2=np.array([[1,1],[4,5]])\n",
    "print(m2)"
   ]
  },
  {
   "cell_type": "code",
   "execution_count": 14,
   "id": "78856458",
   "metadata": {},
   "outputs": [
    {
     "name": "stdout",
     "output_type": "stream",
     "text": [
      "[[2 3]\n",
      " [7 9]]\n"
     ]
    }
   ],
   "source": [
    "print(m1+m2)"
   ]
  },
  {
   "cell_type": "code",
   "execution_count": 15,
   "id": "1cc30c96",
   "metadata": {},
   "outputs": [
    {
     "name": "stdout",
     "output_type": "stream",
     "text": [
      "[[ 0  1]\n",
      " [-1 -1]]\n"
     ]
    }
   ],
   "source": [
    "print(m1-m2)"
   ]
  },
  {
   "cell_type": "code",
   "execution_count": 16,
   "id": "5b287280",
   "metadata": {},
   "outputs": [
    {
     "name": "stdout",
     "output_type": "stream",
     "text": [
      "[[ 1  2]\n",
      " [12 20]]\n"
     ]
    }
   ],
   "source": [
    "print(m1*m2) #no. of col of 1st matrix shld match the no. of rows of 2nd metrix"
   ]
  },
  {
   "cell_type": "code",
   "execution_count": 17,
   "id": "c569438e",
   "metadata": {},
   "outputs": [
    {
     "name": "stdout",
     "output_type": "stream",
     "text": [
      "[[ 9 11]\n",
      " [19 23]]\n"
     ]
    }
   ],
   "source": [
    "print(np.matmul(m1,m2))"
   ]
  },
  {
   "cell_type": "code",
   "execution_count": 18,
   "id": "2730c70c",
   "metadata": {},
   "outputs": [],
   "source": [
    "vec7=np.array(['red','blue','orange','pink','red'])"
   ]
  },
  {
   "cell_type": "code",
   "execution_count": 19,
   "id": "fe25b54c",
   "metadata": {},
   "outputs": [
    {
     "name": "stdout",
     "output_type": "stream",
     "text": [
      "['blue' 'orange' 'pink' 'red']\n"
     ]
    }
   ],
   "source": [
    "print(np.unique(vec7))"
   ]
  },
  {
   "cell_type": "code",
   "execution_count": 21,
   "id": "602e4d92",
   "metadata": {},
   "outputs": [
    {
     "name": "stdout",
     "output_type": "stream",
     "text": [
      "[[0.94158225 0.73971055 0.58316672 0.3130949  0.34681377]\n",
      " [0.67928673 0.3922775  0.62679106 0.0121751  0.1336471 ]\n",
      " [0.89771916 0.26609732 0.72049484 0.89532663 0.81725583]]\n"
     ]
    }
   ],
   "source": [
    "rand_mat=np.random.rand(3,5)\n",
    "print(rand_mat)"
   ]
  },
  {
   "cell_type": "code",
   "execution_count": 22,
   "id": "ef58a482",
   "metadata": {},
   "outputs": [
    {
     "name": "stdout",
     "output_type": "stream",
     "text": [
      "[[-1.02089184  1.6653279  -0.69834608 -1.36306331  0.64002699]\n",
      " [-1.06308961 -0.68480075 -0.73424264 -0.36911896  0.28245092]\n",
      " [-0.23934999  0.18025209  0.87330058 -0.16883714 -1.56281166]]\n"
     ]
    }
   ],
   "source": [
    "rand_mat=np.random.randn(3,5) #randn includes -ve variables also\n",
    "print(rand_mat)"
   ]
  },
  {
   "cell_type": "code",
   "execution_count": 23,
   "id": "19ecc6a8",
   "metadata": {},
   "outputs": [
    {
     "name": "stdout",
     "output_type": "stream",
     "text": [
      "[-1.51285722 -0.29220796 -0.22932553 -2.4213887   0.5530303  -0.19456788\n",
      " -0.60639408  0.80525859 -1.20539865 -0.25948743 -1.60747581 -0.76591304\n",
      " -1.44533399 -0.22194407  0.98052636 -0.65389218 -0.50617    -1.34465261\n",
      " -0.7373664 ]\n"
     ]
    }
   ],
   "source": [
    "#access\n",
    "rand_vec=np.random.randn(19)\n",
    "print(rand_vec)"
   ]
  },
  {
   "cell_type": "code",
   "execution_count": 24,
   "id": "094c46de",
   "metadata": {},
   "outputs": [
    {
     "name": "stdout",
     "output_type": "stream",
     "text": [
      "-1.5128572246975704\n"
     ]
    }
   ],
   "source": [
    "print(rand_vec[0])"
   ]
  },
  {
   "cell_type": "code",
   "execution_count": 25,
   "id": "1b46233f",
   "metadata": {},
   "outputs": [
    {
     "name": "stdout",
     "output_type": "stream",
     "text": [
      "-0.7373663971168477\n"
     ]
    }
   ],
   "source": [
    "print(rand_vec[-1])"
   ]
  },
  {
   "cell_type": "code",
   "execution_count": 27,
   "id": "46814a25",
   "metadata": {},
   "outputs": [
    {
     "name": "stdout",
     "output_type": "stream",
     "text": [
      "[-1.51285722 -0.22932553  0.5530303  -0.60639408]\n"
     ]
    }
   ],
   "source": [
    "print(rand_vec[0:8:2])"
   ]
  },
  {
   "cell_type": "code",
   "execution_count": 28,
   "id": "dc71d3a1",
   "metadata": {},
   "outputs": [
    {
     "name": "stdout",
     "output_type": "stream",
     "text": [
      "[[-1.02089184  1.6653279  -0.69834608 -1.36306331  0.64002699]\n",
      " [-1.06308961 -0.68480075 -0.73424264 -0.36911896  0.28245092]\n",
      " [-0.23934999  0.18025209  0.87330058 -0.16883714 -1.56281166]]\n"
     ]
    }
   ],
   "source": [
    "print(rand_mat)"
   ]
  },
  {
   "cell_type": "code",
   "execution_count": 29,
   "id": "72d020d1",
   "metadata": {},
   "outputs": [
    {
     "name": "stdout",
     "output_type": "stream",
     "text": [
      "-1.0208918404072451\n"
     ]
    }
   ],
   "source": [
    "print(rand_mat[0,0])"
   ]
  },
  {
   "cell_type": "code",
   "execution_count": 31,
   "id": "fd979c46",
   "metadata": {},
   "outputs": [
    {
     "name": "stdout",
     "output_type": "stream",
     "text": [
      "[-1.02089184]\n"
     ]
    }
   ],
   "source": [
    "print(rand_mat[[0],[0]])"
   ]
  },
  {
   "cell_type": "code",
   "execution_count": 32,
   "id": "4fb221c3",
   "metadata": {},
   "outputs": [
    {
     "name": "stdout",
     "output_type": "stream",
     "text": [
      "[[ 1.6653279  -0.69834608]\n",
      " [-0.68480075 -0.73424264]]\n"
     ]
    }
   ],
   "source": [
    "print(rand_mat[0:2,1:3])"
   ]
  },
  {
   "cell_type": "code",
   "execution_count": 33,
   "id": "2dc7e520",
   "metadata": {},
   "outputs": [
    {
     "name": "stdout",
     "output_type": "stream",
     "text": [
      "[-1.51285722 -0.29220796 -0.22932553 -2.4213887   0.5530303  -0.19456788\n",
      " -0.60639408  0.80525859 -1.20539865 -0.25948743 -1.60747581 -0.76591304\n",
      " -1.44533399 -0.22194407  0.98052636 -0.65389218 -0.50617    -1.34465261\n",
      " -0.7373664 ]\n"
     ]
    }
   ],
   "source": [
    "print(rand_vec)"
   ]
  },
  {
   "cell_type": "code",
   "execution_count": 34,
   "id": "a5fc62f2",
   "metadata": {},
   "outputs": [
    {
     "name": "stdout",
     "output_type": "stream",
     "text": [
      "[-1.51285722 -2.4213887  -0.60639408 -0.25948743 -1.44533399]\n"
     ]
    }
   ],
   "source": [
    "print(rand_vec[np.arange(0,15,3)])"
   ]
  },
  {
   "cell_type": "code",
   "execution_count": 35,
   "id": "d950bc7c",
   "metadata": {},
   "outputs": [
    {
     "name": "stdout",
     "output_type": "stream",
     "text": [
      "[-1.51285722 -0.29220796 -0.22932553  4.          4.         -0.19456788\n",
      " -0.60639408  0.80525859 -1.20539865 -0.25948743 -1.60747581 -0.76591304\n",
      " -1.44533399 -0.22194407  0.98052636 -0.65389218 -0.50617    -1.34465261\n",
      " -0.7373664 ]\n"
     ]
    }
   ],
   "source": [
    "rand_vec[3:5]=4\n",
    "print(rand_vec)"
   ]
  },
  {
   "cell_type": "code",
   "execution_count": 36,
   "id": "c9567399",
   "metadata": {},
   "outputs": [
    {
     "name": "stdout",
     "output_type": "stream",
     "text": [
      "[-1.51285722 -0.29220796 -0.22932553  3.          4.         -0.19456788\n",
      " -0.60639408  0.80525859 -1.20539865 -0.25948743 -1.60747581 -0.76591304\n",
      " -1.44533399 -0.22194407  0.98052636 -0.65389218 -0.50617    -1.34465261\n",
      " -0.7373664 ]\n"
     ]
    }
   ],
   "source": [
    "rand_vec[3:5]=[3,4]\n",
    "print(rand_vec)"
   ]
  },
  {
   "cell_type": "code",
   "execution_count": 41,
   "id": "76bc90a3",
   "metadata": {},
   "outputs": [
    {
     "name": "stdout",
     "output_type": "stream",
     "text": [
      "[[-1.02089184  1.6653279  -0.69834608 -1.36306331  0.64002699]\n",
      " [-1.06308961 -0.68480075 -0.73424264 -0.36911896  0.28245092]\n",
      " [-0.23934999  0.18025209  0.87330058 -0.16883714 -1.56281166]]\n"
     ]
    }
   ],
   "source": [
    "print(rand_mat)"
   ]
  },
  {
   "cell_type": "code",
   "execution_count": 42,
   "id": "dcf0940c",
   "metadata": {},
   "outputs": [],
   "source": [
    "sub_mat=rand_mat[0:2,0:3]"
   ]
  },
  {
   "cell_type": "code",
   "execution_count": 43,
   "id": "6016f82e",
   "metadata": {},
   "outputs": [
    {
     "name": "stdout",
     "output_type": "stream",
     "text": [
      "[[-1.02089184  1.6653279  -0.69834608]\n",
      " [-1.06308961 -0.68480075 -0.73424264]]\n"
     ]
    }
   ],
   "source": [
    "print(sub_mat)"
   ]
  },
  {
   "cell_type": "code",
   "execution_count": 44,
   "id": "3c11ad9b",
   "metadata": {},
   "outputs": [
    {
     "name": "stdout",
     "output_type": "stream",
     "text": [
      "[[3. 3. 3.]\n",
      " [3. 3. 3.]]\n"
     ]
    }
   ],
   "source": [
    "sub_mat[:]=3\n",
    "print(sub_mat)"
   ]
  },
  {
   "cell_type": "code",
   "execution_count": 45,
   "id": "172e9f3f",
   "metadata": {},
   "outputs": [
    {
     "name": "stdout",
     "output_type": "stream",
     "text": [
      "[[ 3.          3.          3.         -1.36306331  0.64002699]\n",
      " [ 3.          3.          3.         -0.36911896  0.28245092]\n",
      " [-0.23934999  0.18025209  0.87330058 -0.16883714 -1.56281166]]\n"
     ]
    }
   ],
   "source": [
    "print(rand_mat) #if we make changes in submetrix they will occure in original metrix "
   ]
  },
  {
   "cell_type": "code",
   "execution_count": 46,
   "id": "f5f2ea21",
   "metadata": {},
   "outputs": [],
   "source": [
    "sub_mat1=rand_mat[0:2,0:2].copy() #copy() "
   ]
  },
  {
   "cell_type": "code",
   "execution_count": 47,
   "id": "bf12ffc2",
   "metadata": {},
   "outputs": [],
   "source": [
    "sub_mat1[:]=4"
   ]
  },
  {
   "cell_type": "code",
   "execution_count": 48,
   "id": "e1c989c8",
   "metadata": {},
   "outputs": [
    {
     "name": "stdout",
     "output_type": "stream",
     "text": [
      "[[ 3.          3.          3.         -1.36306331  0.64002699]\n",
      " [ 3.          3.          3.         -0.36911896  0.28245092]\n",
      " [-0.23934999  0.18025209  0.87330058 -0.16883714 -1.56281166]]\n"
     ]
    }
   ],
   "source": [
    "print(rand_mat)"
   ]
  },
  {
   "cell_type": "code",
   "execution_count": 49,
   "id": "f00a0887",
   "metadata": {},
   "outputs": [],
   "source": [
    "#Logical indexing"
   ]
  },
  {
   "cell_type": "code",
   "execution_count": 51,
   "id": "9aa61161",
   "metadata": {},
   "outputs": [],
   "source": [
    "random_vec=np.random.rand(15)"
   ]
  },
  {
   "cell_type": "code",
   "execution_count": 52,
   "id": "b060ad79",
   "metadata": {},
   "outputs": [
    {
     "name": "stdout",
     "output_type": "stream",
     "text": [
      "[False False False  True  True False False  True False False False False\n",
      " False False  True False False False False]\n"
     ]
    }
   ],
   "source": [
    "print(rand_vec>0)"
   ]
  },
  {
   "cell_type": "code",
   "execution_count": 53,
   "id": "f1351d52",
   "metadata": {},
   "outputs": [
    {
     "name": "stdout",
     "output_type": "stream",
     "text": [
      "[0.58491262 0.25699518 0.53119896 0.70305682 0.85943081 0.37827544\n",
      " 0.27815921 0.4171237  0.11043227 0.55482039 0.62316914 0.40487578\n",
      " 0.67468385 0.07536893 0.6920881 ]\n"
     ]
    }
   ],
   "source": [
    "print(random_vec[random_vec>0])"
   ]
  },
  {
   "cell_type": "code",
   "execution_count": 54,
   "id": "b6e03ac4",
   "metadata": {},
   "outputs": [
    {
     "name": "stdout",
     "output_type": "stream",
     "text": [
      "[3.         3.         3.         0.64002699 3.         3.\n",
      " 3.         0.28245092 0.18025209 0.87330058]\n"
     ]
    }
   ],
   "source": [
    "print(rand_mat[rand_mat>0])"
   ]
  },
  {
   "cell_type": "code",
   "execution_count": 55,
   "id": "e9b6bb0d",
   "metadata": {},
   "outputs": [],
   "source": [
    "np.save('sample_mat',rand_mat)"
   ]
  },
  {
   "cell_type": "code",
   "execution_count": 56,
   "id": "296ccd9e",
   "metadata": {},
   "outputs": [],
   "source": [
    "np.savez('sample_matrices',f1=rand_mat,f2=rand_vec)"
   ]
  },
  {
   "cell_type": "code",
   "execution_count": 58,
   "id": "6651bd54",
   "metadata": {},
   "outputs": [],
   "source": [
    "data1=np.load('sample_mat.npy')"
   ]
  },
  {
   "cell_type": "code",
   "execution_count": 59,
   "id": "8df3f770",
   "metadata": {},
   "outputs": [
    {
     "name": "stdout",
     "output_type": "stream",
     "text": [
      "[[ 3.          3.          3.         -1.36306331  0.64002699]\n",
      " [ 3.          3.          3.         -0.36911896  0.28245092]\n",
      " [-0.23934999  0.18025209  0.87330058 -0.16883714 -1.56281166]]\n"
     ]
    }
   ],
   "source": [
    "print(data1)"
   ]
  },
  {
   "cell_type": "code",
   "execution_count": 60,
   "id": "f86a5631",
   "metadata": {},
   "outputs": [],
   "source": [
    "data2=np.load('sample_matrices.npz')"
   ]
  },
  {
   "cell_type": "code",
   "execution_count": 61,
   "id": "68438a1c",
   "metadata": {},
   "outputs": [
    {
     "name": "stdout",
     "output_type": "stream",
     "text": [
      "[[ 3.          3.          3.         -1.36306331  0.64002699]\n",
      " [ 3.          3.          3.         -0.36911896  0.28245092]\n",
      " [-0.23934999  0.18025209  0.87330058 -0.16883714 -1.56281166]]\n"
     ]
    }
   ],
   "source": [
    "print(data2['f1'])"
   ]
  },
  {
   "cell_type": "code",
   "execution_count": 62,
   "id": "a60d4ad9",
   "metadata": {},
   "outputs": [
    {
     "name": "stdout",
     "output_type": "stream",
     "text": [
      "[-1.51285722 -0.29220796 -0.22932553  3.          4.         -0.19456788\n",
      " -0.60639408  0.80525859 -1.20539865 -0.25948743 -1.60747581 -0.76591304\n",
      " -1.44533399 -0.22194407  0.98052636 -0.65389218 -0.50617    -1.34465261\n",
      " -0.7373664 ]\n"
     ]
    }
   ],
   "source": [
    "print(data2['f2'])"
   ]
  },
  {
   "cell_type": "code",
   "execution_count": null,
   "id": "0a6a4bd4",
   "metadata": {},
   "outputs": [],
   "source": []
  }
 ],
 "metadata": {
  "kernelspec": {
   "display_name": "Python 3 (ipykernel)",
   "language": "python",
   "name": "python3"
  },
  "language_info": {
   "codemirror_mode": {
    "name": "ipython",
    "version": 3
   },
   "file_extension": ".py",
   "mimetype": "text/x-python",
   "name": "python",
   "nbconvert_exporter": "python",
   "pygments_lexer": "ipython3",
   "version": "3.9.12"
  }
 },
 "nbformat": 4,
 "nbformat_minor": 5
}
